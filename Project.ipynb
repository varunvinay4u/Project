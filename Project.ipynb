{
 "cells": [
  {
   "cell_type": "code",
   "execution_count": 6,
   "id": "1c0fda75",
   "metadata": {},
   "outputs": [],
   "source": [
    "import streamlit as st\n",
    "import pandas as pd\n",
    "import numpy as np\n",
    "import pickle\n",
    "import datetime"
   ]
  },
  {
   "cell_type": "code",
   "execution_count": 8,
   "id": "27064cec",
   "metadata": {},
   "outputs": [],
   "source": [
    "st.write(\"\"\"\n",
    "# Weather Prediction\n",
    "\"\"\")\n",
    "\n",
    "WeatherPred = open('weather.pkl', 'rb')\n",
    "classifier = pickle.load(WeatherPred)\n",
    "today = datetime.date.today()\n"
   ]
  },
  {
   "cell_type": "code",
   "execution_count": 9,
   "id": "f97ec317",
   "metadata": {},
   "outputs": [],
   "source": [
    "precip = {0: 'Rain',1: 'Snow'}\n",
    "options = list(range(len(precip)))\n",
    "PrecipType = st.selectbox(\"Select Precipitation type: \", options=list(precip.keys()), format_func=lambda x: precip[x])\n",
    "date=st.date_input('Date: ', today)\n",
    "#st.write(date)\n",
    "date=str(date)\n",
    "date=date.split('-')\n",
    "day=int(date.pop(2))\n",
    "month=int(date.pop(1))\n",
    "year=int(date.pop(0))\n",
    "time=st.time_input('Time: ')\n",
    "time=str(time)\n",
    "time=time.split(':')\n",
    "minute=int(time.pop(1))\n",
    "hour=int(time.pop(0))\n",
    "Temp = st.number_input(\"Enter Temperature (C): \",)\n",
    "AppTemp = st.number_input(\"Enter Apparent Temperature (C): \",)\n",
    "Humidity = st.number_input(\"Enter Humidity: \",)\n",
    "WindSpeed = st.number_input(\"Enter WindSpeed (km/h): \",)\n",
    "WindBear = st.number_input(\"Enter Wind Bearing (degrees): \",)\n",
    "Visibility = st.number_input(\"Enter Visibility (km): \",)\n",
    "CloudCover = st.number_input(\"Enter Cloud Cover: \",)\n",
    "Pressure = st.number_input(\"Enter Pressure (millibars): \",)"
   ]
  },
  {
   "cell_type": "code",
   "execution_count": 12,
   "id": "69cb448a",
   "metadata": {},
   "outputs": [],
   "source": [
    "submit = st.button('Check')"
   ]
  },
  {
   "cell_type": "code",
   "execution_count": 13,
   "id": "6720caf0",
   "metadata": {},
   "outputs": [],
   "source": [
    "if submit:\n",
    "    with st.spinner(\"Checking..\"):\n",
    "        result = classifier.predict([[PrecipType,Temp,AppTemp,Humidity,WindSpeed,WindBear,Visibility,CloudCover,Pressure,year,month,day,hour,minute]])\n",
    "        st.write(result)\n",
    " "
   ]
  },
  {
   "cell_type": "code",
   "execution_count": null,
   "id": "09b8ab62",
   "metadata": {},
   "outputs": [],
   "source": []
  }
 ],
 "metadata": {
  "kernelspec": {
   "display_name": "Python 3",
   "language": "python",
   "name": "python3"
  },
  "language_info": {
   "codemirror_mode": {
    "name": "ipython",
    "version": 3
   },
   "file_extension": ".py",
   "mimetype": "text/x-python",
   "name": "python",
   "nbconvert_exporter": "python",
   "pygments_lexer": "ipython3",
   "version": "3.8.10"
  }
 },
 "nbformat": 4,
 "nbformat_minor": 5
}
